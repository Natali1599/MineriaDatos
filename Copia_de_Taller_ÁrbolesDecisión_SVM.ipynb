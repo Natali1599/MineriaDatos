{
  "cells": [
    {
      "cell_type": "markdown",
      "metadata": {
        "id": "view-in-github",
        "colab_type": "text"
      },
      "source": [
        "<a href=\"https://colab.research.google.com/github/Natali1599/MineriaDatos/blob/main/Copia_de_Taller_%C3%81rbolesDecisi%C3%B3n_SVM.ipynb\" target=\"_parent\"><img src=\"https://colab.research.google.com/assets/colab-badge.svg\" alt=\"Open In Colab\"/></a>"
      ]
    },
    {
      "cell_type": "markdown",
      "metadata": {
        "id": "CnxMlT8BTu1b"
      },
      "source": [
        "Natali Hernández Cardozo,  Código: 2219950"
      ]
    },
    {
      "cell_type": "markdown",
      "metadata": {
        "id": "gqDPEMhZyKFy"
      },
      "source": [
        "# Árbol de decisión\n",
        "\n",
        "Según el siguiente árbol de decisión, analice y responda:\n",
        "\n",
        "![Obama-Clinton decision tree](https://github.com/justmarkham/DAT8/raw/226791169b1cc6df8e8845c12e34e748d5ffaa85/notebooks/images/obama_clinton_tree.jpg)"
      ]
    },
    {
      "cell_type": "markdown",
      "metadata": {
        "id": "3dk2ih2FyT8i"
      },
      "source": [
        "## 1.1 ¿Qué son las observaciones? ¿Cuántas observaciones hay?\n"
      ]
    },
    {
      "cell_type": "markdown",
      "metadata": {
        "id": "7bcxZCY3yxv5"
      },
      "source": [
        "Hay 2.241 observaciones con la finalidad de predecir como está dividido el voto de la población por condado a escoger el candidato para la presidencia sea Obama o Clinton. "
      ]
    },
    {
      "cell_type": "markdown",
      "metadata": {
        "id": "bl0Y4beuyaie"
      },
      "source": [
        "## 1.2 ¿Cuál es la variable de respuesta?\n"
      ]
    },
    {
      "cell_type": "markdown",
      "metadata": {
        "id": "SGhpIhmDy4eS"
      },
      "source": [
        "Como anteriormente lo mencione, en mi opinión la variable respuesta es quién tiene la posibilidad de ser el candidato que gane con cierta cantidad de votos por condado. "
      ]
    },
    {
      "cell_type": "markdown",
      "metadata": {
        "id": "eZD45NjhydqE"
      },
      "source": [
        "## 1.3 ¿Cuáles son las características?¿Cuál es la característica más predictiva?\n"
      ]
    },
    {
      "cell_type": "markdown",
      "metadata": {
        "id": "lnLygKaty48_"
      },
      "source": [
        "Características. (Respuestas)\n",
        "- Sí el condado es más del 20% afroamericano. (Si / No) **(Predictiva y principal)**\n",
        "- Si la tasa de graduación de la secundaria es superior al 78%. (Menos educado/más educado).\n",
        "- Si la tasa de graduación de la secundaria es más alta del 87%. (Tienen diploma/ altamente educado).\n",
        "- Dónde está el condado. (Noreste o sur / Oeste o  medio oeste).\n",
        "- Sí en el año 2000 eran pobres muchos hogares. ( Sí al menos el 47 % ganaba menos de 3.000 / No el 53% ganaba más de 3.000) \n",
        "- La densidad de la población. (Muy rural / Superior a 61.5 milla cuadrada).\n",
        "- Sí en el año 2004 en ese condado Bush venció a Kerry. (Sí / No). "
      ]
    },
    {
      "cell_type": "markdown",
      "metadata": {
        "id": "XdVVxJvTymo1"
      },
      "source": [
        "## 1.4 ¿Cuál es la predicción de clase para el siguiente condado con los siguientes datos: 15% de afroamericanos, 90% de tasa de graduación en la escuela secundaria, ubicado en el Sur, alta pobreza, alta densidad de población?\n"
      ]
    },
    {
      "cell_type": "markdown",
      "metadata": {
        "id": "VrCCs9WRy5pM"
      },
      "source": [
        "La predicción segñun las características anteriormente mencionadas, por el hecho de tener un 90% de tasa de graduación en la escuela secundaria es que obama gane en 185 a 36. \n",
        "\n"
      ]
    },
    {
      "cell_type": "markdown",
      "metadata": {
        "id": "a3U8yhpFyoXH"
      },
      "source": [
        "## 1.5 ¿Cuál es el chance predicha para ese mismo condado anteriormente descrito?"
      ]
    },
    {
      "cell_type": "markdown",
      "metadata": {
        "id": "_NnJatDMKerl"
      },
      "source": [
        "Con lo anteriormente descrito la posibilidad de que gane es de 185 a 36, teniendo el mismo chance de no ser eligido, es decir, 185 a 36 o 5.1."
      ]
    },
    {
      "cell_type": "markdown",
      "metadata": {
        "id": "goh8XqyWQwHS"
      },
      "source": [
        "## SVM\n",
        "\n",
        "\n",
        "Para esta tarea consideramos un conjunto de observaciones sobre una serie de variedades de vino tinto y blanco que implican sus propiedades químicas y su clasificación por parte de los catadores. La industria del vino ha experimentado un gran crecimiento en los últimos tiempos debido al aumento del consumo social. El precio del vino depende de un concepto bastante abstracto de apreciación del vino por parte de los catadores, cuya opinión puede tener un alto grado de variabilidad. El precio del vino depende en cierta medida de este factor tan volátil. Otro factor clave en la certificación y evaluación de la calidad del vino son las pruebas fisicoquímicas, que se realizan en laboratorio y tienen en cuenta factores como la acidez, el nivel de pH, la presencia de azúcar y otras propiedades químicas. Para el mercado del vino, sería interesante que la calidad humana de la cata pudiera relacionarse con las propiedades químicas del vino para que el proceso de certificación y evaluación de la calidad estuviera más controlado.\n",
        "\n",
        "Se dispone de dos conjuntos de datos, uno de los cuales se refiere al vino tinto y cuenta con 1.599 variedades diferentes, y el otro, al vino blanco, con 4.898 variedades. Todos los vinos se producen en una zona concreta de Portugal. Se recogen datos sobre 12 propiedades diferentes de los vinos, una de las cuales es la calidad, basada en datos sensoriales, y el resto son propiedades químicas de los vinos, como la densidad, la acidez, el contenido de alcohol, etc. Todas las propiedades químicas de los vinos son variables continuas. La calidad es una variable ordinal con una clasificación posible de 1 (peor) a 10 (mejor). Cada variedad de vino es catada por tres catadores independientes y la clasificación final asignada es la mediana de la clasificación dada por los catadores.\n",
        "\n",
        "Se espera que un modelo predictivo desarrollado a partir de estos datos sirva de orientación a los viñedos en cuanto a la calidad y el precio que se espera obtener de sus productos sin depender en gran medida de la volatilidad de los catadores.\n"
      ]
    },
    {
      "cell_type": "code",
      "execution_count": null,
      "metadata": {
        "id": "m4dAFqRiQwHd"
      },
      "outputs": [],
      "source": [
        "import pandas as pd\n",
        "import numpy as np"
      ]
    },
    {
      "cell_type": "code",
      "execution_count": null,
      "metadata": {
        "id": "j0S8ZSeuQwHh"
      },
      "outputs": [],
      "source": [
        "data_r = pd.read_csv('https://raw.githubusercontent.com/prof-tatiana-gutierrez/DatosMD/master/Wine_data_red.csv')\n",
        "data_w = pd.read_csv('https://raw.githubusercontent.com/prof-tatiana-gutierrez/DatosMD/master/Wine_data_white.csv')"
      ]
    },
    {
      "cell_type": "code",
      "execution_count": null,
      "metadata": {
        "colab": {
          "base_uri": "https://localhost:8080/",
          "height": 206
        },
        "id": "zL6G49RMQwHl",
        "outputId": "a0b6d92a-098f-404d-c38e-0f5156ea3872"
      },
      "outputs": [
        {
          "data": {
            "text/html": [
              "\n",
              "  <div id=\"df-55c8512b-1c26-447c-882e-d71fcac59783\">\n",
              "    <div class=\"colab-df-container\">\n",
              "      <div>\n",
              "<style scoped>\n",
              "    .dataframe tbody tr th:only-of-type {\n",
              "        vertical-align: middle;\n",
              "    }\n",
              "\n",
              "    .dataframe tbody tr th {\n",
              "        vertical-align: top;\n",
              "    }\n",
              "\n",
              "    .dataframe thead th {\n",
              "        text-align: right;\n",
              "    }\n",
              "</style>\n",
              "<table border=\"1\" class=\"dataframe\">\n",
              "  <thead>\n",
              "    <tr style=\"text-align: right;\">\n",
              "      <th></th>\n",
              "      <th>fixed acidity</th>\n",
              "      <th>volatile acidity</th>\n",
              "      <th>citric acid</th>\n",
              "      <th>residual sugar</th>\n",
              "      <th>chlorides</th>\n",
              "      <th>free sulfur dioxide</th>\n",
              "      <th>total sulfur dioxide</th>\n",
              "      <th>density</th>\n",
              "      <th>pH</th>\n",
              "      <th>sulphates</th>\n",
              "      <th>alcohol</th>\n",
              "      <th>quality</th>\n",
              "      <th>type</th>\n",
              "    </tr>\n",
              "  </thead>\n",
              "  <tbody>\n",
              "    <tr>\n",
              "      <th>3386</th>\n",
              "      <td>6.1</td>\n",
              "      <td>0.28</td>\n",
              "      <td>0.27</td>\n",
              "      <td>4.7</td>\n",
              "      <td>0.030</td>\n",
              "      <td>56.0</td>\n",
              "      <td>140.0</td>\n",
              "      <td>0.99042</td>\n",
              "      <td>3.16</td>\n",
              "      <td>0.42</td>\n",
              "      <td>12.5</td>\n",
              "      <td>8</td>\n",
              "      <td>white</td>\n",
              "    </tr>\n",
              "    <tr>\n",
              "      <th>2280</th>\n",
              "      <td>6.4</td>\n",
              "      <td>0.16</td>\n",
              "      <td>0.25</td>\n",
              "      <td>1.3</td>\n",
              "      <td>0.047</td>\n",
              "      <td>20.0</td>\n",
              "      <td>77.0</td>\n",
              "      <td>0.99330</td>\n",
              "      <td>3.61</td>\n",
              "      <td>0.54</td>\n",
              "      <td>10.2</td>\n",
              "      <td>6</td>\n",
              "      <td>white</td>\n",
              "    </tr>\n",
              "    <tr>\n",
              "      <th>206</th>\n",
              "      <td>7.0</td>\n",
              "      <td>0.16</td>\n",
              "      <td>0.32</td>\n",
              "      <td>8.3</td>\n",
              "      <td>0.045</td>\n",
              "      <td>38.0</td>\n",
              "      <td>126.0</td>\n",
              "      <td>0.99580</td>\n",
              "      <td>3.21</td>\n",
              "      <td>0.34</td>\n",
              "      <td>9.2</td>\n",
              "      <td>5</td>\n",
              "      <td>white</td>\n",
              "    </tr>\n",
              "    <tr>\n",
              "      <th>2487</th>\n",
              "      <td>7.9</td>\n",
              "      <td>0.27</td>\n",
              "      <td>0.27</td>\n",
              "      <td>1.7</td>\n",
              "      <td>0.034</td>\n",
              "      <td>25.0</td>\n",
              "      <td>122.0</td>\n",
              "      <td>0.99088</td>\n",
              "      <td>2.97</td>\n",
              "      <td>0.51</td>\n",
              "      <td>11.9</td>\n",
              "      <td>6</td>\n",
              "      <td>white</td>\n",
              "    </tr>\n",
              "    <tr>\n",
              "      <th>1469</th>\n",
              "      <td>7.2</td>\n",
              "      <td>0.40</td>\n",
              "      <td>0.49</td>\n",
              "      <td>1.1</td>\n",
              "      <td>0.048</td>\n",
              "      <td>11.0</td>\n",
              "      <td>138.0</td>\n",
              "      <td>0.99290</td>\n",
              "      <td>3.01</td>\n",
              "      <td>0.42</td>\n",
              "      <td>9.3</td>\n",
              "      <td>5</td>\n",
              "      <td>white</td>\n",
              "    </tr>\n",
              "  </tbody>\n",
              "</table>\n",
              "</div>\n",
              "      <button class=\"colab-df-convert\" onclick=\"convertToInteractive('df-55c8512b-1c26-447c-882e-d71fcac59783')\"\n",
              "              title=\"Convert this dataframe to an interactive table.\"\n",
              "              style=\"display:none;\">\n",
              "        \n",
              "  <svg xmlns=\"http://www.w3.org/2000/svg\" height=\"24px\"viewBox=\"0 0 24 24\"\n",
              "       width=\"24px\">\n",
              "    <path d=\"M0 0h24v24H0V0z\" fill=\"none\"/>\n",
              "    <path d=\"M18.56 5.44l.94 2.06.94-2.06 2.06-.94-2.06-.94-.94-2.06-.94 2.06-2.06.94zm-11 1L8.5 8.5l.94-2.06 2.06-.94-2.06-.94L8.5 2.5l-.94 2.06-2.06.94zm10 10l.94 2.06.94-2.06 2.06-.94-2.06-.94-.94-2.06-.94 2.06-2.06.94z\"/><path d=\"M17.41 7.96l-1.37-1.37c-.4-.4-.92-.59-1.43-.59-.52 0-1.04.2-1.43.59L10.3 9.45l-7.72 7.72c-.78.78-.78 2.05 0 2.83L4 21.41c.39.39.9.59 1.41.59.51 0 1.02-.2 1.41-.59l7.78-7.78 2.81-2.81c.8-.78.8-2.07 0-2.86zM5.41 20L4 18.59l7.72-7.72 1.47 1.35L5.41 20z\"/>\n",
              "  </svg>\n",
              "      </button>\n",
              "      \n",
              "  <style>\n",
              "    .colab-df-container {\n",
              "      display:flex;\n",
              "      flex-wrap:wrap;\n",
              "      gap: 12px;\n",
              "    }\n",
              "\n",
              "    .colab-df-convert {\n",
              "      background-color: #E8F0FE;\n",
              "      border: none;\n",
              "      border-radius: 50%;\n",
              "      cursor: pointer;\n",
              "      display: none;\n",
              "      fill: #1967D2;\n",
              "      height: 32px;\n",
              "      padding: 0 0 0 0;\n",
              "      width: 32px;\n",
              "    }\n",
              "\n",
              "    .colab-df-convert:hover {\n",
              "      background-color: #E2EBFA;\n",
              "      box-shadow: 0px 1px 2px rgba(60, 64, 67, 0.3), 0px 1px 3px 1px rgba(60, 64, 67, 0.15);\n",
              "      fill: #174EA6;\n",
              "    }\n",
              "\n",
              "    [theme=dark] .colab-df-convert {\n",
              "      background-color: #3B4455;\n",
              "      fill: #D2E3FC;\n",
              "    }\n",
              "\n",
              "    [theme=dark] .colab-df-convert:hover {\n",
              "      background-color: #434B5C;\n",
              "      box-shadow: 0px 1px 3px 1px rgba(0, 0, 0, 0.15);\n",
              "      filter: drop-shadow(0px 1px 2px rgba(0, 0, 0, 0.3));\n",
              "      fill: #FFFFFF;\n",
              "    }\n",
              "  </style>\n",
              "\n",
              "      <script>\n",
              "        const buttonEl =\n",
              "          document.querySelector('#df-55c8512b-1c26-447c-882e-d71fcac59783 button.colab-df-convert');\n",
              "        buttonEl.style.display =\n",
              "          google.colab.kernel.accessAllowed ? 'block' : 'none';\n",
              "\n",
              "        async function convertToInteractive(key) {\n",
              "          const element = document.querySelector('#df-55c8512b-1c26-447c-882e-d71fcac59783');\n",
              "          const dataTable =\n",
              "            await google.colab.kernel.invokeFunction('convertToInteractive',\n",
              "                                                     [key], {});\n",
              "          if (!dataTable) return;\n",
              "\n",
              "          const docLinkHtml = 'Like what you see? Visit the ' +\n",
              "            '<a target=\"_blank\" href=https://colab.research.google.com/notebooks/data_table.ipynb>data table notebook</a>'\n",
              "            + ' to learn more about interactive tables.';\n",
              "          element.innerHTML = '';\n",
              "          dataTable['output_type'] = 'display_data';\n",
              "          await google.colab.output.renderOutput(dataTable, element);\n",
              "          const docLink = document.createElement('div');\n",
              "          docLink.innerHTML = docLinkHtml;\n",
              "          element.appendChild(docLink);\n",
              "        }\n",
              "      </script>\n",
              "    </div>\n",
              "  </div>\n",
              "  "
            ],
            "text/plain": [
              "      fixed acidity  volatile acidity  citric acid  residual sugar  chlorides  \\\n",
              "3386            6.1              0.28         0.27             4.7      0.030   \n",
              "2280            6.4              0.16         0.25             1.3      0.047   \n",
              "206             7.0              0.16         0.32             8.3      0.045   \n",
              "2487            7.9              0.27         0.27             1.7      0.034   \n",
              "1469            7.2              0.40         0.49             1.1      0.048   \n",
              "\n",
              "      free sulfur dioxide  total sulfur dioxide  density    pH  sulphates  \\\n",
              "3386                 56.0                 140.0  0.99042  3.16       0.42   \n",
              "2280                 20.0                  77.0  0.99330  3.61       0.54   \n",
              "206                  38.0                 126.0  0.99580  3.21       0.34   \n",
              "2487                 25.0                 122.0  0.99088  2.97       0.51   \n",
              "1469                 11.0                 138.0  0.99290  3.01       0.42   \n",
              "\n",
              "      alcohol  quality   type  \n",
              "3386     12.5        8  white  \n",
              "2280     10.2        6  white  \n",
              "206       9.2        5  white  \n",
              "2487     11.9        6  white  \n",
              "1469      9.3        5  white  "
            ]
          },
          "execution_count": 4,
          "metadata": {},
          "output_type": "execute_result"
        }
      ],
      "source": [
        "data = data_w.assign(type = 'white')\n",
        "\n",
        "data = data.append(data_r.assign(type = 'red'), ignore_index=True)\n",
        "data.sample(5)"
      ]
    },
    {
      "cell_type": "code",
      "execution_count": null,
      "metadata": {
        "colab": {
          "base_uri": "https://localhost:8080/"
        },
        "id": "v4tG3aszSHwx",
        "outputId": "e4cef9d2-09d2-44ef-cbc3-c6d8b2abbd6d"
      },
      "outputs": [
        {
          "data": {
            "text/plain": [
              "6    2836\n",
              "5    2138\n",
              "7    1079\n",
              "4     216\n",
              "8     193\n",
              "3      30\n",
              "9       5\n",
              "Name: quality, dtype: int64"
            ]
          },
          "execution_count": 5,
          "metadata": {},
          "output_type": "execute_result"
        }
      ],
      "source": [
        "data.quality.value_counts()"
      ]
    },
    {
      "cell_type": "code",
      "execution_count": null,
      "metadata": {
        "colab": {
          "base_uri": "https://localhost:8080/"
        },
        "id": "Aulg4Pz5SIDO",
        "outputId": "6622240d-60ea-4d9d-b4e8-51fb6e58a638"
      },
      "outputs": [
        {
          "data": {
            "text/plain": [
              "white    4898\n",
              "red      1599\n",
              "Name: type, dtype: int64"
            ]
          },
          "execution_count": 6,
          "metadata": {},
          "output_type": "execute_result"
        }
      ],
      "source": [
        "data.type.value_counts()"
      ]
    },
    {
      "cell_type": "markdown",
      "metadata": {
        "id": "ijwzlA_FQwHq"
      },
      "source": [
        "# Ejercicio 2.1\n",
        "\n",
        "Mostrar la tabla de frecuencias de la calidad por tipo de vino."
      ]
    },
    {
      "cell_type": "code",
      "execution_count": null,
      "metadata": {
        "colab": {
          "base_uri": "https://localhost:8080/",
          "height": 143
        },
        "id": "4s07Ier6QwHs",
        "outputId": "cff22279-5e05-480a-b3a5-fac4fea02cdd"
      },
      "outputs": [
        {
          "data": {
            "text/html": [
              "\n",
              "  <div id=\"df-1ea86cee-19b9-4730-ad56-aec6a735a298\">\n",
              "    <div class=\"colab-df-container\">\n",
              "      <div>\n",
              "<style scoped>\n",
              "    .dataframe tbody tr th:only-of-type {\n",
              "        vertical-align: middle;\n",
              "    }\n",
              "\n",
              "    .dataframe tbody tr th {\n",
              "        vertical-align: top;\n",
              "    }\n",
              "\n",
              "    .dataframe thead th {\n",
              "        text-align: right;\n",
              "    }\n",
              "</style>\n",
              "<table border=\"1\" class=\"dataframe\">\n",
              "  <thead>\n",
              "    <tr style=\"text-align: right;\">\n",
              "      <th>quality</th>\n",
              "      <th>3</th>\n",
              "      <th>4</th>\n",
              "      <th>5</th>\n",
              "      <th>6</th>\n",
              "      <th>7</th>\n",
              "      <th>8</th>\n",
              "      <th>9</th>\n",
              "    </tr>\n",
              "    <tr>\n",
              "      <th>type</th>\n",
              "      <th></th>\n",
              "      <th></th>\n",
              "      <th></th>\n",
              "      <th></th>\n",
              "      <th></th>\n",
              "      <th></th>\n",
              "      <th></th>\n",
              "    </tr>\n",
              "  </thead>\n",
              "  <tbody>\n",
              "    <tr>\n",
              "      <th>red</th>\n",
              "      <td>10</td>\n",
              "      <td>53</td>\n",
              "      <td>681</td>\n",
              "      <td>638</td>\n",
              "      <td>199</td>\n",
              "      <td>18</td>\n",
              "      <td>0</td>\n",
              "    </tr>\n",
              "    <tr>\n",
              "      <th>white</th>\n",
              "      <td>20</td>\n",
              "      <td>163</td>\n",
              "      <td>1457</td>\n",
              "      <td>2198</td>\n",
              "      <td>880</td>\n",
              "      <td>175</td>\n",
              "      <td>5</td>\n",
              "    </tr>\n",
              "  </tbody>\n",
              "</table>\n",
              "</div>\n",
              "      <button class=\"colab-df-convert\" onclick=\"convertToInteractive('df-1ea86cee-19b9-4730-ad56-aec6a735a298')\"\n",
              "              title=\"Convert this dataframe to an interactive table.\"\n",
              "              style=\"display:none;\">\n",
              "        \n",
              "  <svg xmlns=\"http://www.w3.org/2000/svg\" height=\"24px\"viewBox=\"0 0 24 24\"\n",
              "       width=\"24px\">\n",
              "    <path d=\"M0 0h24v24H0V0z\" fill=\"none\"/>\n",
              "    <path d=\"M18.56 5.44l.94 2.06.94-2.06 2.06-.94-2.06-.94-.94-2.06-.94 2.06-2.06.94zm-11 1L8.5 8.5l.94-2.06 2.06-.94-2.06-.94L8.5 2.5l-.94 2.06-2.06.94zm10 10l.94 2.06.94-2.06 2.06-.94-2.06-.94-.94-2.06-.94 2.06-2.06.94z\"/><path d=\"M17.41 7.96l-1.37-1.37c-.4-.4-.92-.59-1.43-.59-.52 0-1.04.2-1.43.59L10.3 9.45l-7.72 7.72c-.78.78-.78 2.05 0 2.83L4 21.41c.39.39.9.59 1.41.59.51 0 1.02-.2 1.41-.59l7.78-7.78 2.81-2.81c.8-.78.8-2.07 0-2.86zM5.41 20L4 18.59l7.72-7.72 1.47 1.35L5.41 20z\"/>\n",
              "  </svg>\n",
              "      </button>\n",
              "      \n",
              "  <style>\n",
              "    .colab-df-container {\n",
              "      display:flex;\n",
              "      flex-wrap:wrap;\n",
              "      gap: 12px;\n",
              "    }\n",
              "\n",
              "    .colab-df-convert {\n",
              "      background-color: #E8F0FE;\n",
              "      border: none;\n",
              "      border-radius: 50%;\n",
              "      cursor: pointer;\n",
              "      display: none;\n",
              "      fill: #1967D2;\n",
              "      height: 32px;\n",
              "      padding: 0 0 0 0;\n",
              "      width: 32px;\n",
              "    }\n",
              "\n",
              "    .colab-df-convert:hover {\n",
              "      background-color: #E2EBFA;\n",
              "      box-shadow: 0px 1px 2px rgba(60, 64, 67, 0.3), 0px 1px 3px 1px rgba(60, 64, 67, 0.15);\n",
              "      fill: #174EA6;\n",
              "    }\n",
              "\n",
              "    [theme=dark] .colab-df-convert {\n",
              "      background-color: #3B4455;\n",
              "      fill: #D2E3FC;\n",
              "    }\n",
              "\n",
              "    [theme=dark] .colab-df-convert:hover {\n",
              "      background-color: #434B5C;\n",
              "      box-shadow: 0px 1px 3px 1px rgba(0, 0, 0, 0.15);\n",
              "      filter: drop-shadow(0px 1px 2px rgba(0, 0, 0, 0.3));\n",
              "      fill: #FFFFFF;\n",
              "    }\n",
              "  </style>\n",
              "\n",
              "      <script>\n",
              "        const buttonEl =\n",
              "          document.querySelector('#df-1ea86cee-19b9-4730-ad56-aec6a735a298 button.colab-df-convert');\n",
              "        buttonEl.style.display =\n",
              "          google.colab.kernel.accessAllowed ? 'block' : 'none';\n",
              "\n",
              "        async function convertToInteractive(key) {\n",
              "          const element = document.querySelector('#df-1ea86cee-19b9-4730-ad56-aec6a735a298');\n",
              "          const dataTable =\n",
              "            await google.colab.kernel.invokeFunction('convertToInteractive',\n",
              "                                                     [key], {});\n",
              "          if (!dataTable) return;\n",
              "\n",
              "          const docLinkHtml = 'Like what you see? Visit the ' +\n",
              "            '<a target=\"_blank\" href=https://colab.research.google.com/notebooks/data_table.ipynb>data table notebook</a>'\n",
              "            + ' to learn more about interactive tables.';\n",
              "          element.innerHTML = '';\n",
              "          dataTable['output_type'] = 'display_data';\n",
              "          await google.colab.output.renderOutput(dataTable, element);\n",
              "          const docLink = document.createElement('div');\n",
              "          docLink.innerHTML = docLinkHtml;\n",
              "          element.appendChild(docLink);\n",
              "        }\n",
              "      </script>\n",
              "    </div>\n",
              "  </div>\n",
              "  "
            ],
            "text/plain": [
              "quality   3    4     5     6    7    8  9\n",
              "type                                     \n",
              "red      10   53   681   638  199   18  0\n",
              "white    20  163  1457  2198  880  175  5"
            ]
          },
          "execution_count": 7,
          "metadata": {},
          "output_type": "execute_result"
        }
      ],
      "source": [
        "tabf = pd.crosstab(data[\"type\"],data[\"quality\"])\n",
        "tabf"
      ]
    },
    {
      "cell_type": "markdown",
      "metadata": {
        "id": "0kggmI76QwHv"
      },
      "source": [
        "# Ejercicio 2.2\n",
        "\n",
        "Teniendo en cuenta todas las variables:\n",
        "\n",
        "* Crear un objetivo binario para cada tipo de vino, haciendo la transformación necesaria para ingresar la información al modelo.\n"
      ]
    },
    {
      "cell_type": "code",
      "execution_count": null,
      "metadata": {
        "id": "86blSRjeA-3g"
      },
      "outputs": [],
      "source": [
        "from sklearn import preprocessing, metrics, model_selection\n",
        "import pandas as pd\n",
        "from sklearn.metrics import roc_auc_score, accuracy_score, make_scorer, roc_curve, auc\n",
        "from sklearn.preprocessing import label_binarize\n",
        "from sklearn.model_selection import train_test_split\n",
        "from sklearn.model_selection import GridSearchCV\n",
        "from sklearn import svm\n",
        "from sklearn.svm import SVC"
      ]
    },
    {
      "cell_type": "code",
      "execution_count": null,
      "metadata": {
        "id": "Lh9OHSHWBDHI"
      },
      "outputs": [],
      "source": [
        "from sklearn.model_selection import train_test_split"
      ]
    },
    {
      "cell_type": "code",
      "execution_count": null,
      "metadata": {
        "id": "uY6FUmGI-3zd"
      },
      "outputs": [],
      "source": [
        "# encode female as 0 and male as 1\n",
        "data['type'] = data.type.map({'red':0, 'white':1})"
      ]
    },
    {
      "cell_type": "code",
      "execution_count": null,
      "metadata": {
        "id": "9M8qNn9FAnPg"
      },
      "outputs": [],
      "source": [
        "# define X and y\n",
        "X = data.drop(['type'], axis = 1)\n",
        "y = data['type']"
      ]
    },
    {
      "cell_type": "code",
      "execution_count": null,
      "metadata": {
        "id": "LhOa2PrPBKIA"
      },
      "outputs": [],
      "source": [
        "X_train, X_test, y_train, y_test = train_test_split(X, y, test_size=0.20)"
      ]
    },
    {
      "cell_type": "markdown",
      "metadata": {
        "id": "GB1ExoFnB8rh"
      },
      "source": [
        "* Crear una SVM que prediga el tipo de vino\n"
      ]
    },
    {
      "cell_type": "markdown",
      "metadata": {
        "id": "1Vtgw19EB-EB"
      },
      "source": [
        "* Evalúe con F1, AUC-ROC y log-loss"
      ]
    },
    {
      "cell_type": "code",
      "execution_count": null,
      "metadata": {
        "colab": {
          "base_uri": "https://localhost:8080/"
        },
        "id": "Sr1eKvjCMnPB",
        "outputId": "49920c49-e024-4179-b5c0-d51113d9f88b"
      },
      "outputs": [
        {
          "data": {
            "text/plain": [
              "SVC(C=1000000.0, kernel='linear', probability=True)"
            ]
          },
          "execution_count": 17,
          "metadata": {},
          "output_type": "execute_result"
        }
      ],
      "source": [
        "#SVM\n",
        "modSVC = SVC(kernel='linear', C=1E6,  probability= True) #Si no sale error en las predic\n",
        "modSVC.fit(X_train, y_train)"
      ]
    },
    {
      "cell_type": "code",
      "execution_count": null,
      "metadata": {
        "colab": {
          "base_uri": "https://localhost:8080/"
        },
        "id": "TFdQKb-wMyEx",
        "outputId": "0f11a0dd-33ab-4ea6-a476-cb0d1bf08329"
      },
      "outputs": [
        {
          "name": "stdout",
          "output_type": "stream",
          "text": [
            "AUC 0.9763093979840307\n",
            "F1 0.99128651973347\n",
            "Log Loss 0.4516701482114891\n"
          ]
        }
      ],
      "source": [
        "scv_pred  = modSVC.predict(X_test)\n",
        "predic = modSVC.predict_proba(X_test)\n",
        "print('AUC', metrics.roc_auc_score(y_test, scv_pred , average=None))\n",
        "print('F1', metrics.f1_score(y_test, scv_pred ))\n",
        "print('Log Loss', metrics.log_loss(y_test, scv_pred ))\n"
      ]
    },
    {
      "cell_type": "markdown",
      "metadata": {
        "id": "auNsSHtsQwH1"
      },
      "source": [
        "# Ejercicio 2.3\n",
        "\n",
        "* Probar la SVM utilizando los diferentes kernels ('poly', 'rbf', 'sigmoid')\n",
        "* Evalúe con F1, AUC-ROC y log-loss\n"
      ]
    },
    {
      "cell_type": "code",
      "execution_count": null,
      "metadata": {
        "id": "Jb1xe4DpONsc"
      },
      "outputs": [],
      "source": [
        "#Kernel\n",
        "clf2 = svm.SVC(kernel='poly',probability=True)\n",
        "clf3 = svm.SVC(kernel='rbf',probability=True)\n",
        "clf4 = svm.SVC(kernel='sigmoid',probability=True)"
      ]
    },
    {
      "cell_type": "code",
      "execution_count": 44,
      "metadata": {
        "colab": {
          "base_uri": "https://localhost:8080/"
        },
        "id": "jemt-xVqOm5c",
        "outputId": "096e72fa-ecf0-4943-b193-3586e617f9ac"
      },
      "outputs": [
        {
          "output_type": "execute_result",
          "data": {
            "text/plain": [
              "SVC(kernel='sigmoid', probability=True)"
            ]
          },
          "metadata": {},
          "execution_count": 44
        }
      ],
      "source": [
        "#Fit\n",
        "clf2.fit(X_train, y_train)\n",
        "clf3.fit(X_train, y_train)\n",
        "clf4.fit(X_train, y_train)\n"
      ]
    },
    {
      "cell_type": "code",
      "execution_count": null,
      "metadata": {
        "collapsed": true,
        "id": "f6adIqmAQwH4"
      },
      "outputs": [],
      "source": [
        "#Predicciones\n",
        "scv_pred2= clf2.predict(X_test)\n",
        "predic2 = clf2.predict_proba(X_test)\n",
        "\n",
        "scv_pred3 = clf3.predict(X_test)\n",
        "predic3 = clf3.predict_proba(X_test)\n",
        "\n",
        "scv_pred4 = clf4.predict(X_test)\n",
        "predic4 = clf4.predict_proba(X_test)"
      ]
    },
    {
      "cell_type": "code",
      "execution_count": 43,
      "metadata": {
        "colab": {
          "base_uri": "https://localhost:8080/"
        },
        "id": "S_pSWO-_PJRB",
        "outputId": "6711c9f2-2f5e-4c87-9c4b-163bb4c8cbff"
      },
      "outputs": [
        {
          "output_type": "stream",
          "name": "stdout",
          "text": [
            "2\n",
            "AUC 0.8776357100321446\n",
            "F1 0.945010183299389\n",
            "Log Loss 0.2545947589707961\n",
            "3\n",
            "AUC 0.8860787119745338\n",
            "F1 0.959\n",
            "Log Loss 0.21453642683773227\n",
            "4\n",
            "AUC 0.6511384646082953\n",
            "F1 0.8301886792452831\n",
            "Log Loss 0.5051406509864891\n"
          ]
        }
      ],
      "source": [
        "#Resultados\n",
        "print('2') \n",
        "print('AUC', metrics.roc_auc_score(y_test, scv_pred2 , average=None))\n",
        "print('F1', metrics.f1_score(y_test, scv_pred2 ))\n",
        "print('Log Loss', metrics.log_loss(y_test, predic2 ))\n",
        "\n",
        "print('3') \n",
        "print('AUC', metrics.roc_auc_score(y_test, scv_pred3 , average=None))\n",
        "print('F1', metrics.f1_score(y_test, scv_pred3 ))\n",
        "print('Log Loss', metrics.log_loss(y_test, predic3 ))\n",
        "\n",
        "print('4') \n",
        "print('AUC', metrics.roc_auc_score(y_test, scv_pred4 , average=None))\n",
        "print('F1', metrics.f1_score(y_test, scv_pred4 ))\n",
        "print('Log Loss', metrics.log_loss(y_test, predic4 ))"
      ]
    },
    {
      "cell_type": "markdown",
      "metadata": {
        "id": "DHBmMhtYQwH6"
      },
      "source": [
        "# Ejercicio 2.4\n",
        "* Utilizando el mejor SVM del punto anterior encontrar los parámetros que da el mejor rendimiento teniendo en cuenta los siguientes hiperparámetros\n",
        "'C': [0.1, 1, 10, 100, 1000], 'gamma': [0.01, 0.001, 0.0001]\n",
        "* Evalúe cada modelo con F1, AUC-ROC y log-loss\n",
        "\n",
        "Nota: Para los valores de C y gamma, deben realizar todas las posibles combinaciones entre estas dos variables."
      ]
    },
    {
      "cell_type": "code",
      "execution_count": 39,
      "metadata": {
        "collapsed": true,
        "id": "3d6wqybPQwH8"
      },
      "outputs": [],
      "source": [
        "from sklearn import svm\n",
        "\n",
        "svc_clf2 = svm.SVC()\n",
        "# Grilla de validación\n",
        "parameters = {'gamma': [0.01, 0.001, 0.0001], 'C':  [0.1, 1, 10, 100, 1000]}\n",
        "acc_scorer = make_scorer(roc_auc_score)\n",
        "\n",
        "# Run and fit the grid search\n",
        "grid_obj = GridSearchCV(svc_clf2, parameters, scoring=acc_scorer)\n",
        "grid_obj = grid_obj.fit(X_train, y_train)"
      ]
    },
    {
      "cell_type": "code",
      "execution_count": 41,
      "metadata": {
        "id": "3S_uLpsQV2F1"
      },
      "outputs": [],
      "source": [
        "# Set the clf to the best combination of parameters\n",
        "svc_clf_best2 = grid_obj.best_estimator_\n",
        "svc_clf_best2.fit(X_train, y_train)\n",
        "\n",
        "predm = svc_clf_best2.predict(X_test)"
      ]
    },
    {
      "cell_type": "code",
      "execution_count": 42,
      "metadata": {
        "id": "PWu5DYv-T9K0",
        "colab": {
          "base_uri": "https://localhost:8080/"
        },
        "outputId": "75061f1a-a4bc-4815-9041-f7617e1d9112"
      },
      "outputs": [
        {
          "output_type": "stream",
          "name": "stdout",
          "text": [
            "AUC 0.9868834161109189\n",
            "F1 0.9948559670781892\n",
            "Log Loss 0.2656878159450382\n"
          ]
        }
      ],
      "source": [
        "#Según hiperparametros:\n",
        "print('AUC', metrics.roc_auc_score(y_test, predm , average=None))\n",
        "print('F1', metrics.f1_score(y_test, predm ))\n",
        "print('Log Loss', metrics.log_loss(y_test, predm ))"
      ]
    },
    {
      "cell_type": "markdown",
      "metadata": {
        "id": "XjgVQ_WTQwH9"
      },
      "source": [
        "# Ejercicio 2.5\n",
        "\n",
        "Compare los resultados con todos los anteriores modelos y eliga ¿Cuál algoritmo con cuáles hiperparámetros es el que tiene mejor rendimiento según la puntuación F1, AUC-ROC y log-loss?"
      ]
    },
    {
      "cell_type": "markdown",
      "metadata": {
        "id": "2EMQHHhUyG_-"
      },
      "source": [
        "Segun los resultados anteriormente se considera mejor el modelo con un SVM la grilla de validación. c= 1000, gamma=0.001."
      ]
    }
  ],
  "metadata": {
    "colab": {
      "collapsed_sections": [],
      "provenance": [],
      "include_colab_link": true
    },
    "kernelspec": {
      "display_name": "Python 3",
      "language": "python",
      "name": "python3"
    },
    "language_info": {
      "codemirror_mode": {
        "name": "ipython",
        "version": 3
      },
      "file_extension": ".py",
      "mimetype": "text/x-python",
      "name": "python",
      "nbconvert_exporter": "python",
      "pygments_lexer": "ipython3",
      "version": "3.7.0"
    }
  },
  "nbformat": 4,
  "nbformat_minor": 0
}