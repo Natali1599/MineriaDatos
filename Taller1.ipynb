{
  "nbformat": 4,
  "nbformat_minor": 0,
  "metadata": {
    "colab": {
      "provenance": [],
      "authorship_tag": "ABX9TyPJ77Fai+ivESeUoln3pi5w",
      "include_colab_link": true
    },
    "kernelspec": {
      "name": "python3",
      "display_name": "Python 3"
    },
    "language_info": {
      "name": "python"
    }
  },
  "cells": [
    {
      "cell_type": "markdown",
      "metadata": {
        "id": "view-in-github",
        "colab_type": "text"
      },
      "source": [
        "<a href=\"https://colab.research.google.com/github/Natali1599/MineriaDatos/blob/main/Taller1.ipynb\" target=\"_parent\"><img src=\"https://colab.research.google.com/assets/colab-badge.svg\" alt=\"Open In Colab\"/></a>"
      ]
    },
    {
      "cell_type": "markdown",
      "source": [
        "## Taller 1 \n",
        "#5/Septiembre/2022."
      ],
      "metadata": {
        "id": "4goCXch0UTpp"
      }
    },
    {
      "cell_type": "markdown",
      "source": [
        "#### Universidad Santo Tomás\n",
        "#### Facultad de Estadística\n",
        "#### Minería de Datos\n",
        "#### Estudiante: Natali Hernández Cardozo"
      ],
      "metadata": {
        "id": "r2DQtFPWUXCr"
      }
    },
    {
      "cell_type": "code",
      "source": [
        "import pandas as pd\n",
        "from itertools import combinations"
      ],
      "metadata": {
        "id": "S3gzeXeIoU9X"
      },
      "execution_count": null,
      "outputs": []
    },
    {
      "cell_type": "markdown",
      "source": [
        "## Ejercicio 1:\n",
        "Cree una función que transforme grados Fahrenheit a grados centígrados"
      ],
      "metadata": {
        "id": "1A7pvPNJUfOY"
      }
    },
    {
      "cell_type": "code",
      "source": [
        "fa= float(input(\"Por favor ingrese los grados Fahrenheit que desea convertir a grados centígrados,:\"))\n",
        "gc= ((fa-32)*(5/9))\n",
        "print(\"La conversión de\" ,fa, \" en Grados Fahrenheit son \" ,gc, \" en grados centígrados.\")"
      ],
      "metadata": {
        "colab": {
          "base_uri": "https://localhost:8080/"
        },
        "id": "RSS_wXctUl9h",
        "outputId": "a313008a-ef0f-4b07-af40-4ee888171b4d"
      },
      "execution_count": null,
      "outputs": [
        {
          "output_type": "stream",
          "name": "stdout",
          "text": [
            "Por favor ingrese los grados Fahrenheit que desea convertir a grados centígrados,:20\n",
            "La conversión de 20.0  en Grados Fahrenheit son  -6.666666666666667  en grados centígrados.\n"
          ]
        }
      ]
    },
    {
      "cell_type": "markdown",
      "source": [
        "## Ejercicio 2:\n",
        "Escribir un programa que almacene la cadena de caracteres contraseña en una variable, pregunte al usuario por la contraseña e imprima por pantalla si el valor es correcto o no en función de los siguientes aspectos:\n",
        "1. Falta al menos un carácter numérico\n",
        "2. Falta al menos uno de los siguientes carácter especiales : *, _ , !, $, %\n",
        "3. Falta al menos una mayúscula"
      ],
      "metadata": {
        "id": "tzW7O6d4UkS7"
      }
    },
    {
      "cell_type": "code",
      "source": [
        "# Se realiza  sin funciones\n",
        "mayus= \"ABCDEFGHIJKLMNOPQRSTÑUVWXYZ\" #manuales con funcion - .isupper()*1\n",
        "num= \"1234567890\" #manuales \n",
        "carac= \"*_!$%%!\" #manuales \n",
        "contr= 0\n",
        "contrase=True\n",
        "while contrase:\n",
        "  ingreso_contr= input(\"ingrese contraseña\")\n",
        "  mayuscula=False\n",
        "  numero=False\n",
        "  caracteres=False\n",
        "  for caracter in ingreso_contr:\n",
        "    if caracter in mayus:\n",
        "      mayuscula=True  \n",
        "    if caracter in num:\n",
        "      numero=True  \n",
        "    if caracter in carac:\n",
        "      caracteres=True    \n",
        "  if mayuscula and numero and caracteres:\n",
        "    print(\"La constraseñase se ha elegido correctamente\")\n",
        "    contr=ingreso_contr\n",
        "    contrase=False\n",
        "  else:\n",
        "      if not mayuscula:\n",
        "        print(\"La contrraseña ha de tener al menos 1 mayuscula\")\n",
        "      if not numero:\n",
        "        print(\"La contrraseña ha de tener al menos 1 numero\")\n",
        "      if not caracteres:\n",
        "        print(\"La contrraseña ha de tener al menos 1 caracter\")"
      ],
      "metadata": {
        "colab": {
          "base_uri": "https://localhost:8080/"
        },
        "id": "gwCFJ1z_UudL",
        "outputId": "22bcfc7c-c853-438c-e69f-7cb46c793e9e"
      },
      "execution_count": null,
      "outputs": [
        {
          "output_type": "stream",
          "name": "stdout",
          "text": [
            "ingrese contraseñaNay\n",
            "La contrraseña ha de tener al menos 1 numero\n",
            "La contrraseña ha de tener al menos 1 caracter\n",
            "ingrese contraseñaNath12\n",
            "La contrraseña ha de tener al menos 1 caracter\n",
            "ingrese contraseñaNath123*\n",
            "La constraseñase se ha elegido correctamente\n"
          ]
        }
      ]
    },
    {
      "cell_type": "markdown",
      "source": [
        "# Taller 3\n",
        "Laura y Sebastián vieron una promoción en Buscalibre dónde por la compra de 2 libros te llevas el tercero de menor valor. Ellos quieren analizar si hay una forma de adquirir 6 libros en dónde puedan sacar la mayor ganancia posible. Las opciones de libros son los siguientes:\n",
        "\n",
        "*  Libro 1 por $50.000.\n",
        "\n",
        "*   Libro 2 por $30.000.\n",
        "\n",
        "*   Libro 3 por $80.000.\n",
        "\n",
        "*   Libro 4 por $20.000.\n",
        "\n",
        "*   Libro 5 por $100.000.\n",
        "\n",
        "*   Libro 6 por $40.000.\n",
        "\n",
        "Escriba un programa que arroje cual debería ser la combinación de libros adecuada para ahorrar lo máximo posible.\n",
        "\n",
        "Ejemplo de Salida:\n",
        "*  Combinación de libros 1: Libro 1, 4 y 6.\n",
        "*  Combinación de libros 2: Libro 2, 3, 5.\n",
        "*  Total de dinero ahorrado: “Total de libros” – “Descuento de promoción”."
      ],
      "metadata": {
        "id": "R3pqyLSOjk0A"
      }
    },
    {
      "cell_type": "code",
      "source": [
        "val = [50000,30000,80000,20000,100000,40000]\n",
        "libs = [\"libro 1\",\"libro 2\",\"libro 3\",\"libro 4\",\"libro 5\",\"libro 6\"]\n",
        "mezc = list(combinations(val, 3))\n",
        "pos = [] \n",
        "tot = []\n",
        "for j in range(len(mezc)):\n",
        "  pos.append(sum(list(mezc[j]))-min(list(mezc[j]))) \n",
        "  desc.append(min(list(mezc[j])))\n",
        "pos1 = resul.iloc [0,:]\n",
        "pos2= resul.iloc [1,:]"
      ],
      "metadata": {
        "id": "MiCLHCaFjfav"
      },
      "execution_count": null,
      "outputs": []
    },
    {
      "cell_type": "code",
      "source": [
        "print(\"Combinación de libros 1: \", pos1[0],pos1[1],pos1[2])\n",
        "print(\"Combinación de libros 2: \", pos2[0],pos2[1],pos2[2])\n",
        "print(\"Suma total compra de libros: \", resul.iloc[0,3]+resul.iloc[1,3])\n",
        "print(\"El descuento total fue de: \",resul.iloc[0,4]+resul.iloc[1,4])"
      ],
      "metadata": {
        "colab": {
          "base_uri": "https://localhost:8080/"
        },
        "id": "dpYJdV9uwNQd",
        "outputId": "174e2aeb-430f-4711-bcd4-9cf94a173bb2"
      },
      "execution_count": null,
      "outputs": [
        {
          "output_type": "stream",
          "name": "stdout",
          "text": [
            "Combinación de libros 1:  libro 1 libro 2 libro 3\n",
            "Combinación de libros 2:  libro 1 libro 2 libro 4\n",
            "Suma total compra de libros:  210000\n",
            "El descuento total fue de:  50000\n"
          ]
        }
      ]
    }
  ]
}